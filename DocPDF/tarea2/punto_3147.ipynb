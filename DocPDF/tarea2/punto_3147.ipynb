{
 "cells": [
  {
   "cell_type": "code",
   "execution_count": 128,
   "metadata": {},
   "outputs": [],
   "source": [
    "from sympy import *\n",
    "\n",
    "sigma1 = Matrix([\n",
    "    [0, 1],\n",
    "    [1, 0]\n",
    "])\n",
    "\n",
    "sigma2 = Matrix([\n",
    "    [0, -1.j],\n",
    "    [1.j, 0]\n",
    "])\n",
    "\n",
    "sigma3 = Matrix([\n",
    "    [1, 0],\n",
    "    [0, -1]\n",
    "])\n",
    "\n",
    "sigma0 = Matrix([\n",
    "    [1, 0],\n",
    "    [0, 1]\n",
    "])\n",
    "\n",
    "pauli = [sigma1, sigma2, sigma3, sigma0]\n",
    "\n",
    "def dot(u, v):\n",
    "    return Trace( u @ v)\n",
    "\n",
    "a, b, c, d = symbols('a, b, c, d')\n",
    "A = Matrix([\n",
    "    [ a, b],\n",
    "    [ c, d]\n",
    "])"
   ]
  },
  {
   "cell_type": "code",
   "execution_count": 143,
   "metadata": {},
   "outputs": [
    {
     "data": {
      "text/latex": [
       "$\\displaystyle \\frac{\\sqrt{2} \\left(b + c\\right)}{2}$"
      ],
      "text/plain": [
       "sqrt(2)*(b + c)/2"
      ]
     },
     "execution_count": 143,
     "metadata": {},
     "output_type": "execute_result"
    }
   ],
   "source": [
    "duales = []\n",
    "\n",
    "equations = []\n",
    "\n",
    "for i in range(4):\n",
    "    sigma = pauli[i]\n",
    "    eq = dot(A, sigma) / sqrt(dot(sigma, sigma)) \n",
    "    equations.append(eq)\n",
    "\n",
    "equations = [ eq.simplify() for eq  in equations]\n",
    "\n",
    "equations[0]"
   ]
  },
  {
   "cell_type": "code",
   "execution_count": 144,
   "metadata": {},
   "outputs": [],
   "source": [
    "for i in range(4):\n",
    "\n",
    "    actual_equations = equations\n",
    "    actual_equations[i] = actual_equations[i] - 1\n",
    "\n",
    "    coeffs = solve( actual_equations , dict=True)[0]\n",
    "\n",
    "    dual = Matrix([\n",
    "        [ coeffs[a], coeffs[b] ],\n",
    "        [ coeffs[c], coeffs[d] ]\n",
    "    ])\n",
    "\n",
    "    duales.append(dual)"
   ]
  },
  {
   "cell_type": "code",
   "execution_count": 145,
   "metadata": {},
   "outputs": [
    {
     "name": "stdout",
     "output_type": "stream",
     "text": [
      "dual sigma1\n"
     ]
    },
    {
     "data": {
      "text/latex": [
       "$\\displaystyle \\left[\\begin{matrix}0 & 0.707106781186548\\\\0.707106781186548 & 0\\end{matrix}\\right]$"
      ],
      "text/plain": [
       "Matrix([\n",
       "[                0, 0.707106781186548],\n",
       "[0.707106781186548,                 0]])"
      ]
     },
     "execution_count": 145,
     "metadata": {},
     "output_type": "execute_result"
    }
   ],
   "source": [
    "print(\"dual sigma1\")\n",
    "duales[0]"
   ]
  },
  {
   "cell_type": "code",
   "execution_count": 151,
   "metadata": {},
   "outputs": [
    {
     "data": {
      "text/plain": [
       "1.0"
      ]
     },
     "execution_count": 151,
     "metadata": {},
     "output_type": "execute_result"
    }
   ],
   "source": [
    "res = (  dot(duales[0], sigma1) / sqrt( dot(sigma1, sigma1) ) )\n",
    "float( res.simplify() )"
   ]
  },
  {
   "cell_type": "code",
   "execution_count": 132,
   "metadata": {},
   "outputs": [
    {
     "name": "stdout",
     "output_type": "stream",
     "text": [
      "dual sigma2\n"
     ]
    },
    {
     "data": {
      "text/latex": [
       "$\\displaystyle \\left[\\begin{matrix}0 & 0.707106781186548 - 0.707106781186547 i\\\\0.707106781186548 + 0.707106781186547 i & 0\\end{matrix}\\right]$"
      ],
      "text/plain": [
       "Matrix([\n",
       "[                                      0, 0.707106781186548 - 0.707106781186547*I],\n",
       "[0.707106781186548 + 0.707106781186547*I,                                       0]])"
      ]
     },
     "execution_count": 132,
     "metadata": {},
     "output_type": "execute_result"
    }
   ],
   "source": [
    "print(\"dual sigma2\")\n",
    "duales[1]"
   ]
  },
  {
   "cell_type": "code",
   "execution_count": 152,
   "metadata": {},
   "outputs": [
    {
     "data": {
      "text/plain": [
       "0.9999999999999993"
      ]
     },
     "execution_count": 152,
     "metadata": {},
     "output_type": "execute_result"
    }
   ],
   "source": [
    "res = (  dot(duales[1], sigma2) / sqrt( dot(sigma2, sigma2) ) )\n",
    "float( res.simplify() )"
   ]
  },
  {
   "cell_type": "code",
   "execution_count": 153,
   "metadata": {},
   "outputs": [
    {
     "name": "stdout",
     "output_type": "stream",
     "text": [
      "dual sigma3\n"
     ]
    },
    {
     "data": {
      "text/latex": [
       "$\\displaystyle \\left[\\begin{matrix}0.707106781186548 & 0.707106781186548 - 0.707106781186547 i\\\\0.707106781186548 + 0.707106781186547 i & -0.707106781186548\\end{matrix}\\right]$"
      ],
      "text/plain": [
       "Matrix([\n",
       "[                      0.707106781186548, 0.707106781186548 - 0.707106781186547*I],\n",
       "[0.707106781186548 + 0.707106781186547*I,                      -0.707106781186548]])"
      ]
     },
     "execution_count": 153,
     "metadata": {},
     "output_type": "execute_result"
    }
   ],
   "source": [
    "print(\"dual sigma3\")\n",
    "duales[2]"
   ]
  },
  {
   "cell_type": "code",
   "execution_count": 154,
   "metadata": {},
   "outputs": [
    {
     "data": {
      "text/plain": [
       "1.0"
      ]
     },
     "execution_count": 154,
     "metadata": {},
     "output_type": "execute_result"
    }
   ],
   "source": [
    "res = (  dot(duales[2], sigma3) / sqrt( dot(sigma3, sigma3) ) )\n",
    "float( res.simplify() )"
   ]
  },
  {
   "cell_type": "code",
   "execution_count": 157,
   "metadata": {},
   "outputs": [
    {
     "name": "stdout",
     "output_type": "stream",
     "text": [
      "dual sigma0\n"
     ]
    },
    {
     "data": {
      "text/latex": [
       "$\\displaystyle \\left[\\begin{matrix}1.4142135623731 & 0.707106781186548 - 0.707106781186547 i\\\\0.707106781186548 + 0.707106781186547 i & 0\\end{matrix}\\right]$"
      ],
      "text/plain": [
       "Matrix([\n",
       "[                        1.4142135623731, 0.707106781186548 - 0.707106781186547*I],\n",
       "[0.707106781186548 + 0.707106781186547*I,                                       0]])"
      ]
     },
     "execution_count": 157,
     "metadata": {},
     "output_type": "execute_result"
    }
   ],
   "source": [
    "print(\"dual sigma0\")\n",
    "duales[3]"
   ]
  },
  {
   "cell_type": "code",
   "execution_count": 158,
   "metadata": {},
   "outputs": [
    {
     "data": {
      "text/plain": [
       "1.0"
      ]
     },
     "execution_count": 158,
     "metadata": {},
     "output_type": "execute_result"
    }
   ],
   "source": [
    "res = (  dot(duales[3], sigma0) / sqrt( dot(sigma0, sigma0) ) )\n",
    "float( res.simplify() )"
   ]
  },
  {
   "cell_type": "code",
   "execution_count": null,
   "metadata": {},
   "outputs": [],
   "source": []
  }
 ],
 "metadata": {
  "interpreter": {
   "hash": "fe84d6661668ed8d2cc173185cd9de563aa7808721a4e7f47c7e89f8ec4af907"
  },
  "kernelspec": {
   "display_name": "Python 3.9.0 ('matavanzadas')",
   "language": "python",
   "name": "python3"
  },
  "language_info": {
   "codemirror_mode": {
    "name": "ipython",
    "version": 3
   },
   "file_extension": ".py",
   "mimetype": "text/x-python",
   "name": "python",
   "nbconvert_exporter": "python",
   "pygments_lexer": "ipython3",
   "version": "3.9.0"
  },
  "orig_nbformat": 4
 },
 "nbformat": 4,
 "nbformat_minor": 2
}
