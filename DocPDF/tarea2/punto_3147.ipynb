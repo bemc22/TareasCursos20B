{
 "cells": [
  {
   "cell_type": "code",
   "execution_count": 286,
   "metadata": {},
   "outputs": [],
   "source": [
    "from sympy import *\n",
    "\n",
    "sigma1 = Matrix([\n",
    "    [0, 1],\n",
    "    [1, 0]\n",
    "])\n",
    "\n",
    "sigma2 = Matrix([\n",
    "    [0, -I],\n",
    "    [I, 0]\n",
    "])\n",
    "\n",
    "sigma3 = Matrix([\n",
    "    [1, 0],\n",
    "    [0, -1]\n",
    "])\n",
    "\n",
    "sigma0 = Matrix([\n",
    "    [1, 0],\n",
    "    [0, 1]\n",
    "])\n",
    "\n",
    "pauli = [sigma1, sigma2, sigma3, sigma0]\n",
    "\n",
    "def dot(u, v):\n",
    "    return Trace( u @ v)\n",
    "\n",
    "a, b, c, d = symbols('a, b, c, d')\n",
    "A = Matrix([\n",
    "    [ a, b],\n",
    "    [ c, d]\n",
    "])"
   ]
  },
  {
   "cell_type": "code",
   "execution_count": 287,
   "metadata": {},
   "outputs": [
    {
     "data": {
      "text/latex": [
       "$\\displaystyle \\frac{\\sqrt{2} \\left(b + c\\right)}{2}$"
      ],
      "text/plain": [
       "sqrt(2)*(b + c)/2"
      ]
     },
     "execution_count": 287,
     "metadata": {},
     "output_type": "execute_result"
    }
   ],
   "source": [
    "duales = []\n",
    "\n",
    "equations = []\n",
    "\n",
    "for i in range(4):\n",
    "    sigma = pauli[i]\n",
    "    eq = dot(A, sigma) / sqrt(dot(sigma, sigma)) \n",
    "    equations.append(eq)\n",
    "\n",
    "equations = [ eq.simplify(rational=True) for eq  in equations]\n",
    "\n",
    "equations[0]"
   ]
  },
  {
   "cell_type": "code",
   "execution_count": 288,
   "metadata": {},
   "outputs": [],
   "source": [
    "for i in range(4):\n",
    "\n",
    "    actual_equations = equations\n",
    "    actual_equations[i] = actual_equations[i] - 1\n",
    "\n",
    "    coeffs = solve( actual_equations , dict=True)[0]\n",
    "\n",
    "    dual = Matrix([\n",
    "        [ coeffs[a], coeffs[b] ],\n",
    "        [ coeffs[c], coeffs[d] ]\n",
    "    ])\n",
    "\n",
    "    duales.append(dual)"
   ]
  },
  {
   "cell_type": "code",
   "execution_count": 289,
   "metadata": {},
   "outputs": [
    {
     "name": "stdout",
     "output_type": "stream",
     "text": [
      "dual sigma1\n"
     ]
    },
    {
     "data": {
      "text/latex": [
       "$\\displaystyle \\left[\\begin{matrix}0 & \\frac{\\sqrt{2}}{2}\\\\\\frac{\\sqrt{2}}{2} & 0\\end{matrix}\\right]$"
      ],
      "text/plain": [
       "Matrix([\n",
       "[        0, sqrt(2)/2],\n",
       "[sqrt(2)/2,         0]])"
      ]
     },
     "execution_count": 289,
     "metadata": {},
     "output_type": "execute_result"
    }
   ],
   "source": [
    "print(\"dual sigma1\")\n",
    "duales[0]"
   ]
  },
  {
   "cell_type": "code",
   "execution_count": 290,
   "metadata": {},
   "outputs": [
    {
     "data": {
      "text/latex": [
       "$\\displaystyle 1$"
      ],
      "text/plain": [
       "1"
      ]
     },
     "execution_count": 290,
     "metadata": {},
     "output_type": "execute_result"
    }
   ],
   "source": [
    "res = (  dot(duales[0], sigma1) / sqrt( dot(sigma1, sigma1) ) )\n",
    "res.simplify() "
   ]
  },
  {
   "cell_type": "code",
   "execution_count": 291,
   "metadata": {},
   "outputs": [
    {
     "name": "stdout",
     "output_type": "stream",
     "text": [
      "dual sigma2\n"
     ]
    },
    {
     "data": {
      "text/latex": [
       "$\\displaystyle \\left[\\begin{matrix}0 & \\frac{\\sqrt{2}}{2} - \\frac{\\sqrt{2} i}{2}\\\\\\frac{\\sqrt{2}}{2} + \\frac{\\sqrt{2} i}{2} & 0\\end{matrix}\\right]$"
      ],
      "text/plain": [
       "Matrix([\n",
       "[                      0, sqrt(2)/2 - sqrt(2)*I/2],\n",
       "[sqrt(2)/2 + sqrt(2)*I/2,                       0]])"
      ]
     },
     "execution_count": 291,
     "metadata": {},
     "output_type": "execute_result"
    }
   ],
   "source": [
    "print(\"dual sigma2\")\n",
    "duales[1]"
   ]
  },
  {
   "cell_type": "code",
   "execution_count": 300,
   "metadata": {},
   "outputs": [
    {
     "data": {
      "text/latex": [
       "$\\displaystyle 1$"
      ],
      "text/plain": [
       "1"
      ]
     },
     "execution_count": 300,
     "metadata": {},
     "output_type": "execute_result"
    }
   ],
   "source": [
    "res = (  dot(duales[1], sigma2) / sqrt( dot(sigma2, sigma2) ) )\n",
    "res.simplify().simplify()"
   ]
  },
  {
   "cell_type": "code",
   "execution_count": 293,
   "metadata": {},
   "outputs": [
    {
     "name": "stdout",
     "output_type": "stream",
     "text": [
      "dual sigma3\n"
     ]
    },
    {
     "data": {
      "text/latex": [
       "$\\displaystyle \\left[\\begin{matrix}\\frac{\\sqrt{2}}{2} & \\frac{\\sqrt{2}}{2} - \\frac{\\sqrt{2} i}{2}\\\\\\frac{\\sqrt{2}}{2} + \\frac{\\sqrt{2} i}{2} & - \\frac{\\sqrt{2}}{2}\\end{matrix}\\right]$"
      ],
      "text/plain": [
       "Matrix([\n",
       "[              sqrt(2)/2, sqrt(2)/2 - sqrt(2)*I/2],\n",
       "[sqrt(2)/2 + sqrt(2)*I/2,              -sqrt(2)/2]])"
      ]
     },
     "execution_count": 293,
     "metadata": {},
     "output_type": "execute_result"
    }
   ],
   "source": [
    "print(\"dual sigma3\")\n",
    "duales[2]"
   ]
  },
  {
   "cell_type": "code",
   "execution_count": 294,
   "metadata": {},
   "outputs": [
    {
     "data": {
      "text/latex": [
       "$\\displaystyle 1$"
      ],
      "text/plain": [
       "1"
      ]
     },
     "execution_count": 294,
     "metadata": {},
     "output_type": "execute_result"
    }
   ],
   "source": [
    "res = (  dot(duales[2], sigma3) / sqrt( dot(sigma3, sigma3) ) )\n",
    "res.simplify() "
   ]
  },
  {
   "cell_type": "code",
   "execution_count": 295,
   "metadata": {},
   "outputs": [
    {
     "name": "stdout",
     "output_type": "stream",
     "text": [
      "dual sigma0\n"
     ]
    },
    {
     "data": {
      "text/latex": [
       "$\\displaystyle \\left[\\begin{matrix}\\sqrt{2} & \\frac{\\sqrt{2}}{2} - \\frac{\\sqrt{2} i}{2}\\\\\\frac{\\sqrt{2}}{2} + \\frac{\\sqrt{2} i}{2} & 0\\end{matrix}\\right]$"
      ],
      "text/plain": [
       "Matrix([\n",
       "[                sqrt(2), sqrt(2)/2 - sqrt(2)*I/2],\n",
       "[sqrt(2)/2 + sqrt(2)*I/2,                       0]])"
      ]
     },
     "execution_count": 295,
     "metadata": {},
     "output_type": "execute_result"
    }
   ],
   "source": [
    "print(\"dual sigma0\")\n",
    "duales[3]"
   ]
  },
  {
   "cell_type": "code",
   "execution_count": 296,
   "metadata": {},
   "outputs": [
    {
     "data": {
      "text/latex": [
       "$\\displaystyle 1$"
      ],
      "text/plain": [
       "1"
      ]
     },
     "execution_count": 296,
     "metadata": {},
     "output_type": "execute_result"
    }
   ],
   "source": [
    "res = (  dot(duales[3], sigma0) / sqrt( dot(sigma0, sigma0) ) )\n",
    "res.simplify() "
   ]
  },
  {
   "cell_type": "code",
   "execution_count": null,
   "metadata": {},
   "outputs": [],
   "source": []
  }
 ],
 "metadata": {
  "interpreter": {
   "hash": "fe84d6661668ed8d2cc173185cd9de563aa7808721a4e7f47c7e89f8ec4af907"
  },
  "kernelspec": {
   "display_name": "Python 3.9.0 ('matavanzadas')",
   "language": "python",
   "name": "python3"
  },
  "language_info": {
   "codemirror_mode": {
    "name": "ipython",
    "version": 3
   },
   "file_extension": ".py",
   "mimetype": "text/x-python",
   "name": "python",
   "nbconvert_exporter": "python",
   "pygments_lexer": "ipython3",
   "version": "3.9.0"
  },
  "orig_nbformat": 4
 },
 "nbformat": 4,
 "nbformat_minor": 2
}
