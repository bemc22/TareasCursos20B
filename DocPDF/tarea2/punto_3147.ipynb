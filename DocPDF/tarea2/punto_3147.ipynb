{
 "cells": [
  {
   "cell_type": "code",
   "execution_count": 517,
   "metadata": {},
   "outputs": [],
   "source": [
    "from sympy import *\n",
    "\n",
    "sigma1 = Matrix([\n",
    "    [0, 1],\n",
    "    [1, 0]\n",
    "])\n",
    "\n",
    "sigma2 = Matrix([\n",
    "    [0, -I],\n",
    "    [I, 0]\n",
    "])\n",
    "\n",
    "sigma3 = Matrix([\n",
    "    [1, 0],\n",
    "    [0, -1]\n",
    "])\n",
    "\n",
    "sigma0 = Matrix([\n",
    "    [1, 0],\n",
    "    [0, 1]\n",
    "])\n",
    "\n",
    "pauli = [sigma1, sigma2, sigma3, sigma0]\n",
    "# Orthogonalization\n",
    "# pauli = [  s / sqrt(dot(s, s)) for s in pauli ]\n",
    "# _ = [ s.simplify(rational=True) for s in pauli ]\n",
    "\n",
    "\n",
    "def dot(u, v):\n",
    "    return Trace( u @ v)\n",
    "\n",
    "a, b, c, d = symbols('a, b, c, d')\n",
    "A = Matrix([\n",
    "    [ a, b],\n",
    "    [ c, d]\n",
    "])"
   ]
  },
  {
   "cell_type": "code",
   "execution_count": 518,
   "metadata": {},
   "outputs": [
    {
     "data": {
      "text/latex": [
       "$\\displaystyle \\frac{\\sqrt{2} \\left(b + c\\right)}{2}$"
      ],
      "text/plain": [
       "sqrt(2)*(b + c)/2"
      ]
     },
     "execution_count": 518,
     "metadata": {},
     "output_type": "execute_result"
    }
   ],
   "source": [
    "duales = []\n",
    "\n",
    "equations = []\n",
    "\n",
    "for i in range(4):\n",
    "    sigma = pauli[i]\n",
    "    eq = dot(A, sigma) / sqrt(dot(sigma, sigma)) \n",
    "    equations.append(eq)\n",
    "\n",
    "equations = [ eq.simplify(rational=True) for eq  in equations]\n",
    "\n",
    "equations[0]"
   ]
  },
  {
   "cell_type": "code",
   "execution_count": 519,
   "metadata": {},
   "outputs": [],
   "source": [
    "import copy\n",
    "\n",
    "for i in range(4):\n",
    "\n",
    "    actual_equations = copy.copy(equations)\n",
    "    actual_equations[i] = actual_equations[i] - 1\n",
    "\n",
    "    coeffs = solve( actual_equations , dict=True)[0]\n",
    "\n",
    "    dual = Matrix([\n",
    "        [ coeffs[a], coeffs[b] ],\n",
    "        [ coeffs[c], coeffs[d] ]\n",
    "    ])\n",
    "\n",
    "    duales.append(dual)"
   ]
  },
  {
   "cell_type": "code",
   "execution_count": 521,
   "metadata": {},
   "outputs": [
    {
     "name": "stdout",
     "output_type": "stream",
     "text": [
      "dual sigma1\n"
     ]
    },
    {
     "data": {
      "text/latex": [
       "$\\displaystyle \\left[\\begin{matrix}0 & \\frac{\\sqrt{2}}{2}\\\\\\frac{\\sqrt{2}}{2} & 0\\end{matrix}\\right]$"
      ],
      "text/plain": [
       "Matrix([\n",
       "[        0, sqrt(2)/2],\n",
       "[sqrt(2)/2,         0]])"
      ]
     },
     "execution_count": 521,
     "metadata": {},
     "output_type": "execute_result"
    }
   ],
   "source": [
    "print(\"dual sigma1\")\n",
    "duales[0]"
   ]
  },
  {
   "cell_type": "code",
   "execution_count": 522,
   "metadata": {},
   "outputs": [
    {
     "data": {
      "text/latex": [
       "$\\displaystyle 1$"
      ],
      "text/plain": [
       "1"
      ]
     },
     "execution_count": 522,
     "metadata": {},
     "output_type": "execute_result"
    }
   ],
   "source": [
    "res = (  dot(duales[0], sigma1) / sqrt( dot(sigma1, sigma1) ) )\n",
    "res.simplify() "
   ]
  },
  {
   "cell_type": "code",
   "execution_count": 523,
   "metadata": {},
   "outputs": [
    {
     "name": "stdout",
     "output_type": "stream",
     "text": [
      "dual sigma2\n"
     ]
    },
    {
     "data": {
      "text/latex": [
       "$\\displaystyle \\left[\\begin{matrix}0 & - \\frac{\\sqrt{2} i}{2}\\\\\\frac{\\sqrt{2} i}{2} & 0\\end{matrix}\\right]$"
      ],
      "text/plain": [
       "Matrix([\n",
       "[          0, -sqrt(2)*I/2],\n",
       "[sqrt(2)*I/2,            0]])"
      ]
     },
     "execution_count": 523,
     "metadata": {},
     "output_type": "execute_result"
    }
   ],
   "source": [
    "print(\"dual sigma2\")\n",
    "duales[1]"
   ]
  },
  {
   "cell_type": "code",
   "execution_count": 524,
   "metadata": {},
   "outputs": [
    {
     "data": {
      "text/latex": [
       "$\\displaystyle 1$"
      ],
      "text/plain": [
       "1"
      ]
     },
     "execution_count": 524,
     "metadata": {},
     "output_type": "execute_result"
    }
   ],
   "source": [
    "res = (  dot(duales[1], sigma2) / sqrt( dot(sigma2, sigma2) ) )\n",
    "res.simplify().simplify()"
   ]
  },
  {
   "cell_type": "code",
   "execution_count": 525,
   "metadata": {},
   "outputs": [
    {
     "name": "stdout",
     "output_type": "stream",
     "text": [
      "dual sigma3\n"
     ]
    },
    {
     "data": {
      "text/latex": [
       "$\\displaystyle \\left[\\begin{matrix}\\frac{\\sqrt{2}}{2} & 0\\\\0 & - \\frac{\\sqrt{2}}{2}\\end{matrix}\\right]$"
      ],
      "text/plain": [
       "Matrix([\n",
       "[sqrt(2)/2,          0],\n",
       "[        0, -sqrt(2)/2]])"
      ]
     },
     "execution_count": 525,
     "metadata": {},
     "output_type": "execute_result"
    }
   ],
   "source": [
    "print(\"dual sigma3\")\n",
    "duales[2]"
   ]
  },
  {
   "cell_type": "code",
   "execution_count": 526,
   "metadata": {},
   "outputs": [
    {
     "data": {
      "text/latex": [
       "$\\displaystyle 1$"
      ],
      "text/plain": [
       "1"
      ]
     },
     "execution_count": 526,
     "metadata": {},
     "output_type": "execute_result"
    }
   ],
   "source": [
    "res = (  dot(duales[2], sigma3) / sqrt( dot(sigma3, sigma3) ) )\n",
    "res.simplify() "
   ]
  },
  {
   "cell_type": "code",
   "execution_count": 527,
   "metadata": {},
   "outputs": [
    {
     "name": "stdout",
     "output_type": "stream",
     "text": [
      "dual sigma0\n"
     ]
    },
    {
     "data": {
      "text/latex": [
       "$\\displaystyle \\left[\\begin{matrix}\\frac{\\sqrt{2}}{2} & 0\\\\0 & \\frac{\\sqrt{2}}{2}\\end{matrix}\\right]$"
      ],
      "text/plain": [
       "Matrix([\n",
       "[sqrt(2)/2,         0],\n",
       "[        0, sqrt(2)/2]])"
      ]
     },
     "execution_count": 527,
     "metadata": {},
     "output_type": "execute_result"
    }
   ],
   "source": [
    "print(\"dual sigma0\")\n",
    "duales[3]"
   ]
  },
  {
   "cell_type": "code",
   "execution_count": 528,
   "metadata": {},
   "outputs": [
    {
     "data": {
      "text/latex": [
       "$\\displaystyle 1$"
      ],
      "text/plain": [
       "1"
      ]
     },
     "execution_count": 528,
     "metadata": {},
     "output_type": "execute_result"
    }
   ],
   "source": [
    "res = (  dot(duales[3], sigma0) / sqrt( dot(sigma0, sigma0) ) )\n",
    "res.simplify() "
   ]
  },
  {
   "cell_type": "code",
   "execution_count": 529,
   "metadata": {},
   "outputs": [
    {
     "data": {
      "text/latex": [
       "$\\displaystyle \\left[\\begin{matrix}c + d & a - i b\\\\a + i b & - c + d\\end{matrix}\\right]$"
      ],
      "text/plain": [
       "Matrix([\n",
       "[  c + d, a - I*b],\n",
       "[a + I*b,  -c + d]])"
      ]
     },
     "execution_count": 529,
     "metadata": {},
     "output_type": "execute_result"
    }
   ],
   "source": [
    "# Vector perteneciente al espacio vectorial de las matrices de pauli \n",
    "\n",
    "vector = a*pauli[0] + b*pauli[1] + c*pauli[2] + d*pauli[3]\n",
    "vector"
   ]
  },
  {
   "cell_type": "code",
   "execution_count": 530,
   "metadata": {},
   "outputs": [],
   "source": [
    "coeffs = [ dot(vector, dual) / sqrt(dot(dual, dual)) for dual in duales ]\n",
    "coeffs = [ coef.simplify() for coef in coeffs ]"
   ]
  },
  {
   "cell_type": "code",
   "execution_count": 531,
   "metadata": {},
   "outputs": [
    {
     "data": {
      "text/latex": [
       "$\\displaystyle \\frac{\\sqrt{2} \\left(a - i b\\right)}{2} + \\frac{\\sqrt{2} \\left(a + i b\\right)}{2}$"
      ],
      "text/plain": [
       "sqrt(2)*(a - I*b)/2 + sqrt(2)*(a + I*b)/2"
      ]
     },
     "execution_count": 531,
     "metadata": {},
     "output_type": "execute_result"
    }
   ],
   "source": [
    "coeffs[0]"
   ]
  },
  {
   "cell_type": "code",
   "execution_count": 532,
   "metadata": {},
   "outputs": [
    {
     "data": {
      "text/latex": [
       "$\\displaystyle \\left[\\begin{matrix}c + d & a - i b\\\\a + i b & - c + d\\end{matrix}\\right]$"
      ],
      "text/plain": [
       "Matrix([\n",
       "[  c + d, a - I*b],\n",
       "[a + I*b,  -c + d]])"
      ]
     },
     "execution_count": 532,
     "metadata": {},
     "output_type": "execute_result"
    }
   ],
   "source": [
    "import sympy \n",
    "\n",
    "vector2 = [ coef*dual for coef, dual in zip(coeffs, duales)]\n",
    "_ = [vec.simplify() for vec in vector2]\n",
    "\n",
    "vector2 = vector2[0] + vector2[1] + vector2[2] + vector2[3]\n",
    "\n",
    "vector2"
   ]
  }
 ],
 "metadata": {
  "interpreter": {
   "hash": "fe84d6661668ed8d2cc173185cd9de563aa7808721a4e7f47c7e89f8ec4af907"
  },
  "kernelspec": {
   "display_name": "Python 3.9.0 ('matavanzadas')",
   "language": "python",
   "name": "python3"
  },
  "language_info": {
   "codemirror_mode": {
    "name": "ipython",
    "version": 3
   },
   "file_extension": ".py",
   "mimetype": "text/x-python",
   "name": "python",
   "nbconvert_exporter": "python",
   "pygments_lexer": "ipython3",
   "version": "3.9.0"
  },
  "orig_nbformat": 4
 },
 "nbformat": 4,
 "nbformat_minor": 2
}
