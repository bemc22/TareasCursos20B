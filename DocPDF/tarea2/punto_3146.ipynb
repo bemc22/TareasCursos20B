{
 "cells": [
  {
   "cell_type": "code",
   "execution_count": 65,
   "metadata": {},
   "outputs": [
    {
     "name": "stdout",
     "output_type": "stream",
     "text": [
      "El sistema es dextrógiro 7\n"
     ]
    }
   ],
   "source": [
    "import sympy as sy\n",
    "\n",
    "\n",
    "\n",
    "e1 = sy.Matrix([0 , 1, -1])\n",
    "e2 = sy.Matrix([1,  1,  3])\n",
    "e3 = sy.Matrix([2,  1,  0])\n",
    "# e1 = np.array([1, 1, -1])\n",
    "# e2 = np.array([2, -1,  1])\n",
    "# e3 = np.array([0, -1,  -1])\n",
    "\n",
    "base = [e1, e2, e3]\n",
    "\n",
    "dextro = e1.cross(e2).dot(e3)\n",
    "\n",
    "if dextro > 0:\n",
    "    print(\"El sistema es dextrógiro\", dextro)\n",
    "else:\n",
    "    print(\"El sistema es lovegiro\")"
   ]
  },
  {
   "cell_type": "code",
   "execution_count": 66,
   "metadata": {},
   "outputs": [],
   "source": [
    "\n",
    "a, b, c  = sy.symbols('a, b, c')\n",
    "\n",
    "A = sy.Matrix([a, b, c])\n",
    "\n",
    "duales = []\n",
    "equations = []\n",
    "\n",
    "for i in range(3):\n",
    "  ei = base[i]\n",
    "  eq = A.dot(ei) / sy.sqrt(  ei.dot(ei) )\n",
    "  equations.append(eq)\n",
    "\n",
    "\n",
    "equations = [ eq.simplify(rational=True) for eq  in equations]"
   ]
  },
  {
   "cell_type": "code",
   "execution_count": 67,
   "metadata": {},
   "outputs": [],
   "source": [
    "import copy\n",
    "\n",
    "for i in range(3):\n",
    "\n",
    "    actual_equations = copy.copy(equations)\n",
    "    actual_equations[i] = actual_equations[i] - 1\n",
    "\n",
    "    coeffs = sy.solve( actual_equations , dict=True)[0]\n",
    "\n",
    "    dual = sy.Matrix([ coeffs[a], coeffs[b], coeffs[c] ])\n",
    "    duales.append(dual)"
   ]
  },
  {
   "cell_type": "code",
   "execution_count": 68,
   "metadata": {},
   "outputs": [
    {
     "data": {
      "text/latex": [
       "$\\displaystyle \\left[\\begin{matrix}- \\frac{3}{7}\\\\\\frac{6}{7}\\\\- \\frac{1}{7}\\end{matrix}\\right]$"
      ],
      "text/plain": [
       "Matrix([\n",
       "[-3/7],\n",
       "[ 6/7],\n",
       "[-1/7]])"
      ]
     },
     "execution_count": 68,
     "metadata": {},
     "output_type": "execute_result"
    }
   ],
   "source": [
    "ei = e2.cross(e3) / e1.dot(  e2.cross(e3) )\n",
    "ei"
   ]
  },
  {
   "cell_type": "code",
   "execution_count": 69,
   "metadata": {},
   "outputs": [
    {
     "name": "stdout",
     "output_type": "stream",
     "text": [
      "dual e1\n"
     ]
    },
    {
     "data": {
      "text/latex": [
       "$\\displaystyle \\left[\\begin{matrix}- \\frac{3 \\sqrt{2}}{7}\\\\\\frac{6 \\sqrt{2}}{7}\\\\- \\frac{\\sqrt{2}}{7}\\end{matrix}\\right]$"
      ],
      "text/plain": [
       "Matrix([\n",
       "[-3*sqrt(2)/7],\n",
       "[ 6*sqrt(2)/7],\n",
       "[  -sqrt(2)/7]])"
      ]
     },
     "execution_count": 69,
     "metadata": {},
     "output_type": "execute_result"
    }
   ],
   "source": [
    "print(\"dual e1\")\n",
    "duales[0]"
   ]
  },
  {
   "cell_type": "code",
   "execution_count": 70,
   "metadata": {},
   "outputs": [
    {
     "name": "stdout",
     "output_type": "stream",
     "text": [
      "dual e2\n"
     ]
    },
    {
     "data": {
      "text/latex": [
       "$\\displaystyle \\left[\\begin{matrix}- \\frac{\\sqrt{11}}{7}\\\\\\frac{2 \\sqrt{11}}{7}\\\\\\frac{2 \\sqrt{11}}{7}\\end{matrix}\\right]$"
      ],
      "text/plain": [
       "Matrix([\n",
       "[ -sqrt(11)/7],\n",
       "[2*sqrt(11)/7],\n",
       "[2*sqrt(11)/7]])"
      ]
     },
     "execution_count": 70,
     "metadata": {},
     "output_type": "execute_result"
    }
   ],
   "source": [
    "print(\"dual e2\")\n",
    "duales[1]"
   ]
  },
  {
   "cell_type": "code",
   "execution_count": 71,
   "metadata": {},
   "outputs": [
    {
     "name": "stdout",
     "output_type": "stream",
     "text": [
      "dual e3\n"
     ]
    },
    {
     "data": {
      "text/latex": [
       "$\\displaystyle \\left[\\begin{matrix}\\frac{4 \\sqrt{5}}{7}\\\\- \\frac{\\sqrt{5}}{7}\\\\- \\frac{\\sqrt{5}}{7}\\end{matrix}\\right]$"
      ],
      "text/plain": [
       "Matrix([\n",
       "[4*sqrt(5)/7],\n",
       "[ -sqrt(5)/7],\n",
       "[ -sqrt(5)/7]])"
      ]
     },
     "execution_count": 71,
     "metadata": {},
     "output_type": "execute_result"
    }
   ],
   "source": [
    "print(\"dual e3\")\n",
    "duales[2]"
   ]
  },
  {
   "cell_type": "code",
   "execution_count": null,
   "metadata": {},
   "outputs": [],
   "source": []
  }
 ],
 "metadata": {
  "interpreter": {
   "hash": "fe84d6661668ed8d2cc173185cd9de563aa7808721a4e7f47c7e89f8ec4af907"
  },
  "kernelspec": {
   "display_name": "Python 3.9.0 ('matavanzadas')",
   "language": "python",
   "name": "python3"
  },
  "language_info": {
   "codemirror_mode": {
    "name": "ipython",
    "version": 3
   },
   "file_extension": ".py",
   "mimetype": "text/x-python",
   "name": "python",
   "nbconvert_exporter": "python",
   "pygments_lexer": "ipython3",
   "version": "3.9.0"
  },
  "orig_nbformat": 4
 },
 "nbformat": 4,
 "nbformat_minor": 2
}
