{
 "cells": [
  {
   "cell_type": "code",
   "execution_count": 58,
   "metadata": {},
   "outputs": [
    {
     "name": "stdout",
     "output_type": "stream",
     "text": [
      "El sistema es dextrógiro 7\n"
     ]
    }
   ],
   "source": [
    "import numpy as np \n",
    "\n",
    "\n",
    "e1 = np.array([0, 1, -1])\n",
    "e2 = np.array([1, 1,  3])\n",
    "e3 = np.array([2, 1,  0])\n",
    "\n",
    "# e1 = np.array([1, 1, -1])\n",
    "# e2 = np.array([2, -1,  1])\n",
    "# e3 = np.array([0, -1,  -1])\n",
    "\n",
    "dextro = np.dot(  np.cross(e1, e2), e3 ) \n",
    "\n",
    "if dextro > 0:\n",
    "    print(\"El sistema es dextrógiro\", dextro)\n",
    "else:\n",
    "    print(\"El sistema es lovegiro\")"
   ]
  },
  {
   "cell_type": "code",
   "execution_count": 59,
   "metadata": {},
   "outputs": [],
   "source": [
    "\n",
    "# Ae = b\n",
    "\n",
    "A = np.stack(\n",
    "    [ e1 / np.sqrt( np.dot(e1, e1) ) ,\n",
    "      e2 / np.sqrt( np.dot(e2, e2) ) ,\n",
    "      e3 / np.sqrt( np.dot(e3, e3) )\n",
    "    ]   \n",
    ")\n",
    "\n",
    "b1 = np.array([1, 0, 0])\n",
    "b2 = np.array([0, 1, 0])\n",
    "b3 = np.array([0, 0, 1])\n",
    "\n",
    "\n",
    "ep1 = np.linalg.inv(A) @ b1\n",
    "ep2 = np.linalg.inv(A) @ b2\n",
    "ep3 = np.linalg.inv(A) @ b3"
   ]
  },
  {
   "cell_type": "code",
   "execution_count": 60,
   "metadata": {},
   "outputs": [
    {
     "name": "stdout",
     "output_type": "stream",
     "text": [
      "[-0.60609153  1.21218305 -0.20203051]\n",
      "[-0.47380354  0.94760708  0.94760708]\n",
      "[ 1.27775313 -0.31943828 -0.31943828]\n"
     ]
    }
   ],
   "source": [
    "print(ep1)\n",
    "print(ep2)\n",
    "print(ep3)"
   ]
  },
  {
   "cell_type": "code",
   "execution_count": 68,
   "metadata": {},
   "outputs": [
    {
     "name": "stdout",
     "output_type": "stream",
     "text": [
      "[-0.42857143  0.85714286 -0.14285714]\n"
     ]
    }
   ],
   "source": [
    "ed1 = np.cross( e2, e3 ) / np.dot( e1, np.cross( e2, e3)  )\n",
    "print(ed1)"
   ]
  },
  {
   "cell_type": "code",
   "execution_count": 69,
   "metadata": {},
   "outputs": [
    {
     "data": {
      "text/plain": [
       "1.0"
      ]
     },
     "execution_count": 69,
     "metadata": {},
     "output_type": "execute_result"
    }
   ],
   "source": [
    "np.dot(ep1, e1) / np.sqrt( np.dot(e1, e1) )"
   ]
  },
  {
   "cell_type": "code",
   "execution_count": null,
   "metadata": {},
   "outputs": [],
   "source": []
  }
 ],
 "metadata": {
  "interpreter": {
   "hash": "fe84d6661668ed8d2cc173185cd9de563aa7808721a4e7f47c7e89f8ec4af907"
  },
  "kernelspec": {
   "display_name": "Python 3.9.0 ('matavanzadas')",
   "language": "python",
   "name": "python3"
  },
  "language_info": {
   "codemirror_mode": {
    "name": "ipython",
    "version": 3
   },
   "file_extension": ".py",
   "mimetype": "text/x-python",
   "name": "python",
   "nbconvert_exporter": "python",
   "pygments_lexer": "ipython3",
   "version": "3.9.0"
  },
  "orig_nbformat": 4
 },
 "nbformat": 4,
 "nbformat_minor": 2
}
