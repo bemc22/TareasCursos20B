{
 "cells": [
  {
   "cell_type": "code",
   "execution_count": 97,
   "metadata": {},
   "outputs": [],
   "source": [
    "import sympy as sy\n",
    "\n",
    "x = sy.symbols('x')\n",
    "\n",
    "n = 10\n",
    "\n",
    "base = [ sy.Pow(x, i)  for i in range(n) ]\n",
    "\n",
    "def dot(a, b):\n",
    "    return sy.integrate( a*b,  (x, -1, 1) )\n",
    "\n",
    "def dot2(a, b):\n",
    "    return sy.integrate( a*b*sy.sqrt( 1 - sy.Pow(x, 2)) ,  (x, -1, 1) )"
   ]
  },
  {
   "cell_type": "code",
   "execution_count": 105,
   "metadata": {},
   "outputs": [
    {
     "data": {
      "text/latex": [
       "$\\displaystyle \\left[\\begin{matrix}2 & 0 & \\frac{2}{3} & 0 & \\frac{2}{5} & 0 & \\frac{2}{7} & 0 & \\frac{2}{9} & 0\\\\0 & \\frac{2}{3} & 0 & \\frac{2}{5} & 0 & \\frac{2}{7} & 0 & \\frac{2}{9} & 0 & \\frac{2}{11}\\\\\\frac{2}{3} & 0 & \\frac{2}{5} & 0 & \\frac{2}{7} & 0 & \\frac{2}{9} & 0 & \\frac{2}{11} & 0\\\\0 & \\frac{2}{5} & 0 & \\frac{2}{7} & 0 & \\frac{2}{9} & 0 & \\frac{2}{11} & 0 & \\frac{2}{13}\\\\\\frac{2}{5} & 0 & \\frac{2}{7} & 0 & \\frac{2}{9} & 0 & \\frac{2}{11} & 0 & \\frac{2}{13} & 0\\\\0 & \\frac{2}{7} & 0 & \\frac{2}{9} & 0 & \\frac{2}{11} & 0 & \\frac{2}{13} & 0 & \\frac{2}{15}\\\\\\frac{2}{7} & 0 & \\frac{2}{9} & 0 & \\frac{2}{11} & 0 & \\frac{2}{13} & 0 & \\frac{2}{15} & 0\\\\0 & \\frac{2}{9} & 0 & \\frac{2}{11} & 0 & \\frac{2}{13} & 0 & \\frac{2}{15} & 0 & \\frac{2}{17}\\\\\\frac{2}{9} & 0 & \\frac{2}{11} & 0 & \\frac{2}{13} & 0 & \\frac{2}{15} & 0 & \\frac{2}{17} & 0\\\\0 & \\frac{2}{11} & 0 & \\frac{2}{13} & 0 & \\frac{2}{15} & 0 & \\frac{2}{17} & 0 & \\frac{2}{19}\\end{matrix}\\right]$"
      ],
      "text/plain": [
       "Matrix([\n",
       "[  2,    0,  2/3,    0,  2/5,    0,  2/7,    0,  2/9,    0],\n",
       "[  0,  2/3,    0,  2/5,    0,  2/7,    0,  2/9,    0, 2/11],\n",
       "[2/3,    0,  2/5,    0,  2/7,    0,  2/9,    0, 2/11,    0],\n",
       "[  0,  2/5,    0,  2/7,    0,  2/9,    0, 2/11,    0, 2/13],\n",
       "[2/5,    0,  2/7,    0,  2/9,    0, 2/11,    0, 2/13,    0],\n",
       "[  0,  2/7,    0,  2/9,    0, 2/11,    0, 2/13,    0, 2/15],\n",
       "[2/7,    0,  2/9,    0, 2/11,    0, 2/13,    0, 2/15,    0],\n",
       "[  0,  2/9,    0, 2/11,    0, 2/13,    0, 2/15,    0, 2/17],\n",
       "[2/9,    0, 2/11,    0, 2/13,    0, 2/15,    0, 2/17,    0],\n",
       "[  0, 2/11,    0, 2/13,    0, 2/15,    0, 2/17,    0, 2/19]])"
      ]
     },
     "execution_count": 105,
     "metadata": {},
     "output_type": "execute_result"
    }
   ],
   "source": [
    "dots = []\n",
    "\n",
    "for ei in base:\n",
    "    row = []\n",
    "    for ej in base:\n",
    "\n",
    "        d = dot(ei, ej)\n",
    "        row.append(d)\n",
    "\n",
    "    dots.append(row)\n",
    "\n",
    "dots = sy.Matrix(dots)\n",
    "dots\n"
   ]
  },
  {
   "cell_type": "code",
   "execution_count": 106,
   "metadata": {},
   "outputs": [],
   "source": [
    "legendre = [ base[0] ]\n",
    "\n",
    "\n",
    "for i in range(1, n):\n",
    "\n",
    "    vi = base[i]\n",
    "    ei = [  ei*dot(ei, vi)/dot(ei, ei) for ei in legendre ]\n",
    "    ei = vi - sum(ei)\n",
    "    legendre.append(ei)"
   ]
  },
  {
   "cell_type": "code",
   "execution_count": 107,
   "metadata": {},
   "outputs": [
    {
     "data": {
      "text/latex": [
       "$\\displaystyle \\left[\\begin{matrix}2 & 0 & 0 & 0 & 0 & 0 & 0 & 0 & 0 & 0\\\\0 & \\frac{2}{3} & 0 & 0 & 0 & 0 & 0 & 0 & 0 & 0\\\\0 & 0 & \\frac{8}{45} & 0 & 0 & 0 & 0 & 0 & 0 & 0\\\\0 & 0 & 0 & \\frac{8}{175} & 0 & 0 & 0 & 0 & 0 & 0\\\\0 & 0 & 0 & 0 & \\frac{128}{11025} & 0 & 0 & 0 & 0 & 0\\\\0 & 0 & 0 & 0 & 0 & \\frac{128}{43659} & 0 & 0 & 0 & 0\\\\0 & 0 & 0 & 0 & 0 & 0 & \\frac{512}{693693} & 0 & 0 & 0\\\\0 & 0 & 0 & 0 & 0 & 0 & 0 & \\frac{512}{2760615} & 0 & 0\\\\0 & 0 & 0 & 0 & 0 & 0 & 0 & 0 & \\frac{32768}{703956825} & 0\\\\0 & 0 & 0 & 0 & 0 & 0 & 0 & 0 & 0 & \\frac{32768}{2807136475}\\end{matrix}\\right]$"
      ],
      "text/plain": [
       "Matrix([\n",
       "[2,   0,    0,     0,         0,         0,          0,           0,               0,                0],\n",
       "[0, 2/3,    0,     0,         0,         0,          0,           0,               0,                0],\n",
       "[0,   0, 8/45,     0,         0,         0,          0,           0,               0,                0],\n",
       "[0,   0,    0, 8/175,         0,         0,          0,           0,               0,                0],\n",
       "[0,   0,    0,     0, 128/11025,         0,          0,           0,               0,                0],\n",
       "[0,   0,    0,     0,         0, 128/43659,          0,           0,               0,                0],\n",
       "[0,   0,    0,     0,         0,         0, 512/693693,           0,               0,                0],\n",
       "[0,   0,    0,     0,         0,         0,          0, 512/2760615,               0,                0],\n",
       "[0,   0,    0,     0,         0,         0,          0,           0, 32768/703956825,                0],\n",
       "[0,   0,    0,     0,         0,         0,          0,           0,               0, 32768/2807136475]])"
      ]
     },
     "execution_count": 107,
     "metadata": {},
     "output_type": "execute_result"
    }
   ],
   "source": [
    "dots = []\n",
    "\n",
    "for ei in legendre:\n",
    "    row = []\n",
    "    for ej in legendre:\n",
    "\n",
    "        d = dot(ei, ej)\n",
    "        row.append(d)\n",
    "    dots.append(row)\n",
    "\n",
    "dots = sy.Matrix(dots)\n",
    "dots   "
   ]
  },
  {
   "cell_type": "code",
   "execution_count": 110,
   "metadata": {},
   "outputs": [
    {
     "name": "stdout",
     "output_type": "stream",
     "text": [
      "x\n",
      "x**2 - 1/4\n",
      "x**3 - x/2\n",
      "x**4 - 3*x**2/4 + 1/16\n",
      "x**5 - x**3 + 3*x/16\n",
      "x**6 - 5*x**4/4 + 3*x**2/8 - 1/64\n"
     ]
    }
   ],
   "source": [
    "chebyshev = [ base[0] ]\n",
    "\n",
    "\n",
    "for i in range(1, n):\n",
    "\n",
    "    vi = base[i]\n",
    "    ei = [  ei*dot2(ei, vi)/dot2(ei, ei) for ei in chebyshev ]\n",
    "    ei = vi - sum(ei)\n",
    "    print(ei)\n",
    "    chebyshev.append(ei)"
   ]
  },
  {
   "cell_type": "code",
   "execution_count": null,
   "metadata": {},
   "outputs": [],
   "source": [
    "dots = []\n",
    "\n",
    "for ei in chebyshev:\n",
    "    row = []\n",
    "    for ej in chebyshev:\n",
    "\n",
    "        d = dot2(ei, ej)\n",
    "        row.append(d)\n",
    "    dots.append(row)\n",
    "\n",
    "dots = sy.Matrix(dots)\n",
    "dots   "
   ]
  },
  {
   "cell_type": "code",
   "execution_count": 83,
   "metadata": {},
   "outputs": [],
   "source": [
    "h = sy.sin(  3*x )*(1 - x**2)\n",
    "\n",
    "num_coef = 4\n",
    "\n",
    "monomios_coef = []\n",
    "legendre_coef = []\n",
    "\n",
    "\n",
    "for i in range(num_coef):\n",
    "\n",
    "    mon_coef = dot(h, base[i]) / dot(base[i], base[i]) \n",
    "    monomios_coef.append(mon_coef)\n",
    "\n",
    "    leg_coef = dot(h, legendre[i]) /  dot(legendre[i], legendre[i]) \n",
    "    legendre_coef.append(leg_coef)"
   ]
  },
  {
   "cell_type": "code",
   "execution_count": 84,
   "metadata": {},
   "outputs": [],
   "source": [
    "hmon = sum( [ coef*ei for coef, ei in zip( monomios_coef, base[:num_coef] ) ]).simplify()\n",
    "hleg = sum( [ coef*ei for coef, ei in zip( legendre_coef, legendre[:num_coef] ) ]).simplify()"
   ]
  },
  {
   "cell_type": "code",
   "execution_count": 85,
   "metadata": {},
   "outputs": [
    {
     "data": {
      "image/png": "[encoded data removed]",
      "text/plain": [
       "<Figure size 432x288 with 1 Axes>"
      ]
     },
     "metadata": {
      "needs_background": "light"
     },
     "output_type": "display_data"
    },
    {
     "data": {
      "text/plain": [
       "<sympy.plotting.plot.Plot at 0x23574b6f3a0>"
      ]
     },
     "execution_count": 85,
     "metadata": {},
     "output_type": "execute_result"
    }
   ],
   "source": [
    "from sympy.plotting import plot\n",
    "\n",
    "plot( (h , (x, -1, 1) ) ,\n",
    "      (hmon, (x, -1, 1)),\n",
    "      (hleg, (x, -1, 1))\n",
    ")\n"
   ]
  },
  {
   "cell_type": "code",
   "execution_count": 86,
   "metadata": {},
   "outputs": [
    {
     "name": "stdout",
     "output_type": "stream",
     "text": [
      "Monomos error 0.46042078843284057\n",
      "Legendre error 0.03408326409877644\n"
     ]
    }
   ],
   "source": [
    "a =  dot( h-hmon, h-hmon ).simplify() \n",
    "print(\"Monomos error\", float(a))\n",
    "\n",
    "b = dot( h-hleg, h-hleg ).simplify()\n",
    "print(\"Legendre error\", float(b))"
   ]
  }
 ],
 "metadata": {
  "interpreter": {
   "hash": "4ed320f3f5806baf43b2ccc98f447906522ba924947ce3f8c5e3b84c9b01d0b7"
  },
  "kernelspec": {
   "display_name": "Python 3.9.0 ('matavanzadas')",
   "language": "python",
   "name": "python3"
  },
  "language_info": {
   "codemirror_mode": {
    "name": "ipython",
    "version": 3
   },
   "file_extension": ".py",
   "mimetype": "text/x-python",
   "name": "python",
   "nbconvert_exporter": "python",
   "pygments_lexer": "ipython3",
   "version": "3.9.0"
  },
  "orig_nbformat": 4
 },
 "nbformat": 4,
 "nbformat_minor": 2
}
