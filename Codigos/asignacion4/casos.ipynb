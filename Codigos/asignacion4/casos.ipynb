{
 "cells": [
  {
   "cell_type": "markdown",
   "metadata": {},
   "source": [
    "### El látigo y las ondas de choque\n",
    "\n",
    "1. Considere primero el caso de una cuerda con la misma *masa por unidad de longitud* a la cual se le imprime un pulso en uno de sus extremos y el otro extremo está fijo. Calcular la velocidad y el desplazamiento del otro extremo. Para darse una idea puede utilizar alguno de los simuladores que hay disponibles en la red. El de la Universidad de Colorado es particularmente bueno.\n",
    "\n",
    "\n",
    "$$ \\frac{\\partial^2 y}{\\partial x^2} = \\frac{1}{v^2} \\frac{\\partial^2 y}{\\partial t^2}$$\n",
    "\n",
    "$$ \\frac{\\partial^2 y}{\\partial x^2} = -k^2 = \\frac{1}{v^2} \\frac{\\partial^2 y}{\\partial t^2} $$\n",
    "\n",
    "\n",
    "Spatial Equation\n",
    "\n",
    "\n",
    "$$ \\frac{\\partial^2 y}{\\partial x^2} = -k^2y $$\n",
    "\n",
    "System of first order equation\n",
    "\n",
    "\n",
    "$$ \\frac{\\partial y}{\\partial x} = u(x) $$\n",
    "\n",
    "$$ \\frac{\\partial u}{\\partial x} = -k^2y $$\n",
    "\n",
    "$$  $$\n",
    "\n",
    "\n",
    "Model Assumption\n",
    "\n",
    "$$  Y(x, t) = X(x)\\cdot T(t) $$"
   ]
  },
  {
   "cell_type": "code",
   "execution_count": 33,
   "metadata": {},
   "outputs": [],
   "source": [
    "from scipy.integrate import odeint\n",
    "import numpy as np \n",
    "\n",
    "def model(_input, x, k):\n",
    "    y, u = _input\n",
    "    dydx = [u, -k**2*y ]\n",
    "    return dydx\n",
    "\n",
    "k = 2\n",
    "\n",
    "y0 = [ 0, 10]\n",
    "x = np.linspace(0, 6, 1000)\n",
    "\n",
    "sol = odeint(model, y0, x, args=(k,))"
   ]
  },
  {
   "cell_type": "code",
   "execution_count": 34,
   "metadata": {},
   "outputs": [
    {
     "data": {
      "text/plain": [
       "[<matplotlib.lines.Line2D at 0x1ce464821f0>]"
      ]
     },
     "execution_count": 34,
     "metadata": {},
     "output_type": "execute_result"
    },
    {
     "data": {
      "image/png": "[encoded data removed]",
      "text/plain": [
       "<Figure size 432x288 with 1 Axes>"
      ]
     },
     "metadata": {
      "needs_background": "light"
     },
     "output_type": "display_data"
    }
   ],
   "source": [
    "import matplotlib.pyplot as plt\n",
    "\n",
    "\n",
    "plt.plot(x, sol[:, 0])"
   ]
  },
  {
   "cell_type": "code",
   "execution_count": null,
   "metadata": {},
   "outputs": [],
   "source": []
  }
 ],
 "metadata": {
  "interpreter": {
   "hash": "21a8f96a4b2c004e8d87ce1292d6f1c0cd11cc9c7cfb140795ec61f2e6b69aa9"
  },
  "kernelspec": {
   "display_name": "Python 3.9.12 ('brayan')",
   "language": "python",
   "name": "python3"
  },
  "language_info": {
   "codemirror_mode": {
    "name": "ipython",
    "version": 3
   },
   "file_extension": ".py",
   "mimetype": "text/x-python",
   "name": "python",
   "nbconvert_exporter": "python",
   "pygments_lexer": "ipython3",
   "version": "3.9.12"
  },
  "orig_nbformat": 4
 },
 "nbformat": 4,
 "nbformat_minor": 2
}
