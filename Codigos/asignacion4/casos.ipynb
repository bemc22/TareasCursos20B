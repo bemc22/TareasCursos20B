{
 "cells": [
  {
   "cell_type": "markdown",
   "metadata": {},
   "source": [
    "### El látigo y las ondas de choque\n",
    "\n",
    "1. Considere primero el caso de una cuerda con la misma *masa por unidad de longitud* a la cual se le imprime un pulso en uno de sus extremos y el otro extremo está fijo. Calcular la velocidad y el desplazamiento del otro extremo. Para darse una idea puede utilizar alguno de los simuladores que hay disponibles en la red. El de la Universidad de Colorado es particularmente bueno.\n",
    "\n",
    "\n",
    "$$ \\frac{\\partial^2 y}{\\partial x^2} = \\frac{1}{v^2} \\frac{\\partial^2 y}{\\partial t^2}$$\n",
    "\n",
    "### Model Assumption\n",
    "\n",
    "$$  Y(x, t) = X(x)\\cdot T(t) $$\n",
    "\n",
    "\n",
    "#### Spatial Equation\n",
    "\n",
    "\n",
    "$$ \\frac{\\partial^2 }{\\partial x^2} X(x) = kX(x) $$\n",
    "\n",
    "**System of first order equation**\n",
    "\n",
    "\n",
    "$$ \\frac{\\partial }{\\partial x} X(x) = U(x) $$\n",
    "\n",
    "$$ \\frac{\\partial}{\\partial x} U(x) = kX(x) $$\n",
    "\n",
    "$$  $$\n",
    "\n",
    "\n",
    "### Temporal Equation\n",
    "\n",
    "$$ \\frac{\\partial^2 }{\\partial x^2} T(x) = kT(x)v^2 $$\n",
    "\n",
    "\n",
    "**System of first order equation**\n",
    "\n",
    "\n",
    "$$ \\frac{\\partial }{\\partial x} T(t) = U(t) $$\n",
    "\n",
    "$$ \\frac{\\partial}{\\partial x} U(t) = kT(t)v^2 $$\n",
    "\n"
   ]
  },
  {
   "cell_type": "markdown",
   "metadata": {},
   "source": [
    "Para la parte de x: solucionarla con una estrategia que contemple las condiciones de frontera\n",
    "\n",
    "source: https://docs.scipy.org/doc/scipy/reference/generated/scipy.integrate.solve_bvp.html\n"
   ]
  },
  {
   "cell_type": "code",
   "execution_count": 35,
   "metadata": {},
   "outputs": [
    {
     "data": {
      "text/plain": [
       "[<matplotlib.lines.Line2D at 0x2b7ee957e50>]"
      ]
     },
     "execution_count": 35,
     "metadata": {},
     "output_type": "execute_result"
    },
    {
     "data": {
      "image/png": "[encoded data removed]",
      "text/plain": [
       "<Figure size 432x288 with 1 Axes>"
      ]
     },
     "metadata": {
      "needs_background": "light"
     },
     "output_type": "display_data"
    }
   ],
   "source": [
    "from scipy.integrate import odeint, solve_bvp, solve_ivp\n",
    "import numpy as np \n",
    "import math\n",
    "\n",
    "L = 10\n",
    "n = 1\n",
    "k = n*math.pi/L\n",
    "v = 1\n",
    "\n",
    "\n",
    "def Xfun(x, y):\n",
    "    X, u = y\n",
    "    dXdx = [u, (-k**2)*X ]\n",
    "    return dXdx\n",
    "\n",
    "\n",
    "def Tfun(x, y):\n",
    "    T, u = y\n",
    "    dTdt = [u, (-k**2)*T*v**2 ]\n",
    "    return dTdt\n",
    "\n",
    "\n",
    "def bc(ya, yb):\n",
    "    return [ ya[0], yb[0] - 1]\n",
    "\n",
    "\n",
    "x = np.linspace(0, L, 100)\n",
    "y_guess = np.zeros( (2, x.size) )\n",
    "\n",
    "\n",
    "res_x = solve_bvp(Xfun, bc, x, y_guess)\n",
    "\n",
    "\n",
    "import matplotlib.pyplot as plt \n",
    "\n",
    "plt.plot( x, res_x.sol(x)[0] )\n",
    "\n",
    "\n",
    "# k = 2\n",
    "\n",
    "# x0 = [ 0, 10]\n",
    "# x = np.linspace(0, 6, 1000)\n",
    "\n",
    "# sol = odeint(Xfun, x0, x, args=(k,))"
   ]
  },
  {
   "cell_type": "code",
   "execution_count": null,
   "metadata": {},
   "outputs": [],
   "source": []
  }
 ],
 "metadata": {
  "kernelspec": {
   "display_name": "Python 3.9.6 ('deep-learning')",
   "language": "python",
   "name": "python3"
  },
  "language_info": {
   "codemirror_mode": {
    "name": "ipython",
    "version": 3
   },
   "file_extension": ".py",
   "mimetype": "text/x-python",
   "name": "python",
   "nbconvert_exporter": "python",
   "pygments_lexer": "ipython3",
   "version": "3.9.6"
  },
  "orig_nbformat": 4,
  "vscode": {
   "interpreter": {
    "hash": "e19c5b7ce74c29a4a0f33606fce46481bd4d1c925c075dd8e930b49a84ff9795"
   }
  }
 },
 "nbformat": 4,
 "nbformat_minor": 2
}
