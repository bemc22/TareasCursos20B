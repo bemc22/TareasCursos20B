{
 "cells": [
  {
   "cell_type": "markdown",
   "metadata": {},
   "source": [
    "## Asignación de Transformadas Discretas de Fourier\n",
    "### Calentamiento\n",
    "\n",
    "1. Considere la siguientes señales\n",
    "\n",
    "$ y_1(t) = 3\\cos(\\omega t) + 5\\cos(3\\omega t) + 8\\cos(7\\omega t) \\quad $ y\n",
    "$ \\quad y_2(t) = 3\\sin(\\omega t) + 2\\sin(3\\omega t) + 3\\sin(8\\omega t) $\n",
    "\n",
    "a) Implemente en cada caso la transformada analítica y discreta de Fourier. Compárelas"
   ]
  },
  {
   "cell_type": "code",
   "execution_count": 25,
   "metadata": {},
   "outputs": [
    {
     "data": {
      "text/latex": [
       "$\\displaystyle 3 \\cos{\\left(2 t \\right)}$"
      ],
      "text/plain": [
       "3*cos(2*t)"
      ]
     },
     "execution_count": 25,
     "metadata": {},
     "output_type": "execute_result"
    }
   ],
   "source": [
    "from sympy import *\n",
    "\n",
    "t,  k = symbols('t k')\n",
    "\n",
    "y = 3*cos(2*t) \n",
    "y"
   ]
  },
  {
   "cell_type": "code",
   "execution_count": null,
   "metadata": {},
   "outputs": [],
   "source": []
  }
 ],
 "metadata": {
  "interpreter": {
   "hash": "813b8a19f2080f188118031ea182f8b58c59638a12bab9a11556aa2bda67b314"
  },
  "kernelspec": {
   "display_name": "Python 3.9.0 ('brayan')",
   "language": "python",
   "name": "python3"
  },
  "language_info": {
   "codemirror_mode": {
    "name": "ipython",
    "version": 3
   },
   "file_extension": ".py",
   "mimetype": "text/x-python",
   "name": "python",
   "nbconvert_exporter": "python",
   "pygments_lexer": "ipython3",
   "version": "3.9.0"
  },
  "orig_nbformat": 4
 },
 "nbformat": 4,
 "nbformat_minor": 2
}
